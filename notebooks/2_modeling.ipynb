{
  "nbformat": 4,
  "nbformat_minor": 0,
  "metadata": {
    "colab": {
      "provenance": []
    },
    "kernelspec": {
      "name": "python3",
      "display_name": "Python 3"
    },
    "language_info": {
      "name": "python"
    }
  },
  "cells": [
    {
      "cell_type": "markdown",
      "source": [
        "## Instalando as dependências necessárias e lendo os arquivos processados"
      ],
      "metadata": {
        "id": "plAVeHm7QWnu"
      }
    },
    {
      "cell_type": "code",
      "source": [
        "!pip install -q pyspark\n",
        "!pip install matplotlib\n",
        "!pip install seaborn"
      ],
      "metadata": {
        "colab": {
          "base_uri": "https://localhost:8080/"
        },
        "id": "-4d3cQ9kQ6MH",
        "outputId": "fc1506c2-f4f7-4725-86b6-bf99bb9f7386"
      },
      "execution_count": 1,
      "outputs": [
        {
          "output_type": "stream",
          "name": "stdout",
          "text": [
            "Requirement already satisfied: matplotlib in /usr/local/lib/python3.11/dist-packages (3.10.0)\n",
            "Requirement already satisfied: contourpy>=1.0.1 in /usr/local/lib/python3.11/dist-packages (from matplotlib) (1.3.2)\n",
            "Requirement already satisfied: cycler>=0.10 in /usr/local/lib/python3.11/dist-packages (from matplotlib) (0.12.1)\n",
            "Requirement already satisfied: fonttools>=4.22.0 in /usr/local/lib/python3.11/dist-packages (from matplotlib) (4.58.1)\n",
            "Requirement already satisfied: kiwisolver>=1.3.1 in /usr/local/lib/python3.11/dist-packages (from matplotlib) (1.4.8)\n",
            "Requirement already satisfied: numpy>=1.23 in /usr/local/lib/python3.11/dist-packages (from matplotlib) (2.0.2)\n",
            "Requirement already satisfied: packaging>=20.0 in /usr/local/lib/python3.11/dist-packages (from matplotlib) (24.2)\n",
            "Requirement already satisfied: pillow>=8 in /usr/local/lib/python3.11/dist-packages (from matplotlib) (11.2.1)\n",
            "Requirement already satisfied: pyparsing>=2.3.1 in /usr/local/lib/python3.11/dist-packages (from matplotlib) (3.2.3)\n",
            "Requirement already satisfied: python-dateutil>=2.7 in /usr/local/lib/python3.11/dist-packages (from matplotlib) (2.9.0.post0)\n",
            "Requirement already satisfied: six>=1.5 in /usr/local/lib/python3.11/dist-packages (from python-dateutil>=2.7->matplotlib) (1.17.0)\n",
            "Requirement already satisfied: seaborn in /usr/local/lib/python3.11/dist-packages (0.13.2)\n",
            "Requirement already satisfied: numpy!=1.24.0,>=1.20 in /usr/local/lib/python3.11/dist-packages (from seaborn) (2.0.2)\n",
            "Requirement already satisfied: pandas>=1.2 in /usr/local/lib/python3.11/dist-packages (from seaborn) (2.2.2)\n",
            "Requirement already satisfied: matplotlib!=3.6.1,>=3.4 in /usr/local/lib/python3.11/dist-packages (from seaborn) (3.10.0)\n",
            "Requirement already satisfied: contourpy>=1.0.1 in /usr/local/lib/python3.11/dist-packages (from matplotlib!=3.6.1,>=3.4->seaborn) (1.3.2)\n",
            "Requirement already satisfied: cycler>=0.10 in /usr/local/lib/python3.11/dist-packages (from matplotlib!=3.6.1,>=3.4->seaborn) (0.12.1)\n",
            "Requirement already satisfied: fonttools>=4.22.0 in /usr/local/lib/python3.11/dist-packages (from matplotlib!=3.6.1,>=3.4->seaborn) (4.58.1)\n",
            "Requirement already satisfied: kiwisolver>=1.3.1 in /usr/local/lib/python3.11/dist-packages (from matplotlib!=3.6.1,>=3.4->seaborn) (1.4.8)\n",
            "Requirement already satisfied: packaging>=20.0 in /usr/local/lib/python3.11/dist-packages (from matplotlib!=3.6.1,>=3.4->seaborn) (24.2)\n",
            "Requirement already satisfied: pillow>=8 in /usr/local/lib/python3.11/dist-packages (from matplotlib!=3.6.1,>=3.4->seaborn) (11.2.1)\n",
            "Requirement already satisfied: pyparsing>=2.3.1 in /usr/local/lib/python3.11/dist-packages (from matplotlib!=3.6.1,>=3.4->seaborn) (3.2.3)\n",
            "Requirement already satisfied: python-dateutil>=2.7 in /usr/local/lib/python3.11/dist-packages (from matplotlib!=3.6.1,>=3.4->seaborn) (2.9.0.post0)\n",
            "Requirement already satisfied: pytz>=2020.1 in /usr/local/lib/python3.11/dist-packages (from pandas>=1.2->seaborn) (2025.2)\n",
            "Requirement already satisfied: tzdata>=2022.7 in /usr/local/lib/python3.11/dist-packages (from pandas>=1.2->seaborn) (2025.2)\n",
            "Requirement already satisfied: six>=1.5 in /usr/local/lib/python3.11/dist-packages (from python-dateutil>=2.7->matplotlib!=3.6.1,>=3.4->seaborn) (1.17.0)\n"
          ]
        }
      ]
    },
    {
      "cell_type": "code",
      "source": [
        "!pip install xgboost\n",
        "!pip install lightgbm"
      ],
      "metadata": {
        "colab": {
          "base_uri": "https://localhost:8080/"
        },
        "id": "sR48k_nLDiky",
        "outputId": "c9546012-a8ba-4eab-e9fb-6492b605e103"
      },
      "execution_count": 2,
      "outputs": [
        {
          "output_type": "stream",
          "name": "stdout",
          "text": [
            "Requirement already satisfied: xgboost in /usr/local/lib/python3.11/dist-packages (2.1.4)\n",
            "Requirement already satisfied: numpy in /usr/local/lib/python3.11/dist-packages (from xgboost) (2.0.2)\n",
            "Requirement already satisfied: nvidia-nccl-cu12 in /usr/local/lib/python3.11/dist-packages (from xgboost) (2.21.5)\n",
            "Requirement already satisfied: scipy in /usr/local/lib/python3.11/dist-packages (from xgboost) (1.15.3)\n",
            "Requirement already satisfied: lightgbm in /usr/local/lib/python3.11/dist-packages (4.5.0)\n",
            "Requirement already satisfied: numpy>=1.17.0 in /usr/local/lib/python3.11/dist-packages (from lightgbm) (2.0.2)\n",
            "Requirement already satisfied: scipy in /usr/local/lib/python3.11/dist-packages (from lightgbm) (1.15.3)\n"
          ]
        }
      ]
    },
    {
      "cell_type": "code",
      "source": [
        "from pyspark.sql import SparkSession\n",
        "from pyspark.sql.window import Window\n",
        "from pyspark.sql.functions import coalesce, col, current_date, concat_ws, datediff,date_format, explode, lit, min, max, row_number, sum as spark_sum, to_date, when\n",
        "import seaborn as sns\n",
        "import numpy as np\n",
        "import matplotlib.pyplot as plt\n",
        "import random\n",
        "import lightgbm as lgb\n",
        "import pandas as pd\n",
        "\n",
        "\n",
        "spark = SparkSession.builder.master(\"local[*]\").appName(\"Colab\").getOrCreate()"
      ],
      "metadata": {
        "id": "3kYNi9uNUHcG"
      },
      "execution_count": 3,
      "outputs": []
    },
    {
      "cell_type": "code",
      "source": [
        "df_offers_profile = spark.read.parquet(\"data/processed/offers_profile\")\n",
        "df_profile = spark.read.parquet(\"data/processed/profile\")\n",
        "df_offers = spark.read.parquet(\"data/processed/offers\")\n"
      ],
      "metadata": {
        "id": "6PJK3UQ7UBo2"
      },
      "execution_count": 4,
      "outputs": []
    },
    {
      "cell_type": "code",
      "source": [
        "'''\n",
        "Verificando se os arquivos foram carregados corretamente\n",
        "'''\n",
        "df_offers_profile.show(5)"
      ],
      "metadata": {
        "colab": {
          "base_uri": "https://localhost:8080/"
        },
        "id": "NtWOaVev6gIT",
        "outputId": "e8c46dbf-3d81-499b-ae3f-54b649dd4119"
      },
      "execution_count": 5,
      "outputs": [
        {
          "output_type": "stream",
          "name": "stdout",
          "text": [
            "+--------------------+--------------------+---+-----------------+------+------------------+--------------+-------------+-------------------+---+---+---+-------------+-----------+--------------+--------+---------+--------------+----------+-------------------+-----+------+------+---+----------------+----+--------+-------------+\n",
            "|            offer_id|          account_id|age|credit_card_limit|gender|    average_amount|n_transactions|registered_on|days_since_register|  F|  M|  O|time_received|time_viewed|time_completed|duration|min_value|discount_value|offer_type|offer_name_adjusted|email|mobile|social|web|successful_offer|bogo|discount|informational|\n",
            "+--------------------+--------------------+---+-----------------+------+------------------+--------------+-------------+-------------------+---+---+---+-------------+-----------+--------------+--------+---------+--------------+----------+-------------------+-----+------+------+---+----------------+----+--------+-------------+\n",
            "|9b98b8c7a33c4b65b...|c05652fa9d2c4fac9...| 62|          73000.0|     M|              3.89|             7|   2018-01-27|               2686|  0|  1|  0|          0.0|       6.25|           3.0|     7.0|        5|             5|      bogo|         bogo_5_5_7|    1|     1|     0|  1|               1|   1|       0|            0|\n",
            "|4d5c57ea9a6940dd8...|9da3f2339b244229a...| 49|          36000.0|     F|            4.7175|             4|   2018-01-09|               2704|  1|  0|  0|          0.0|       4.25|          -1.0|     5.0|       10|            10|      bogo|       bogo_10_10_5|    1|     1|     1|  1|               0|   1|       0|            0|\n",
            "|9b98b8c7a33c4b65b...|fc58860830e648c9b...| 79|          64000.0|     M|              2.55|             4|   2018-06-13|               2549|  0|  1|  0|          0.0|       -1.0|          -1.0|     7.0|        5|             5|      bogo|         bogo_5_5_7|    1|     1|     0|  1|               0|   1|       0|            0|\n",
            "|9b98b8c7a33c4b65b...|f608dc84f5f744a88...| 68|         115000.0|     F|             25.41|             4|   2017-05-02|               2956|  1|  0|  0|          0.0|       -1.0|          2.25|     7.0|        5|             5|      bogo|         bogo_5_5_7|    1|     1|     0|  1|               1|   1|       0|            0|\n",
            "|2298d6c36e964ae4a...|25540a042d7d4aabb...| 71|         108000.0|     F|28.145000000000003|             4|   2017-11-30|               2744|  1|  0|  0|          0.0|       0.25|          -1.0|     7.0|        7|             3|  discount|     discount_3_7_7|    1|     1|     1|  1|               0|   0|       1|            0|\n",
            "+--------------------+--------------------+---+-----------------+------+------------------+--------------+-------------+-------------------+---+---+---+-------------+-----------+--------------+--------+---------+--------------+----------+-------------------+-----+------+------+---+----------------+----+--------+-------------+\n",
            "only showing top 5 rows\n",
            "\n"
          ]
        }
      ]
    },
    {
      "cell_type": "code",
      "source": [
        "df_offers.show(5)"
      ],
      "metadata": {
        "colab": {
          "base_uri": "https://localhost:8080/"
        },
        "id": "VD2Xfj4H6XqN",
        "outputId": "be5ebac9-6295-4857-d305-f5846e381c8c"
      },
      "execution_count": 6,
      "outputs": [
        {
          "output_type": "stream",
          "name": "stdout",
          "text": [
            "+--------------------+--------------------+-------------+-----------+--------------+--------+---------+--------------+-------------+-------------------+-----+------+------+---+----------------+\n",
            "|          account_id|            offer_id|time_received|time_viewed|time_completed|duration|min_value|discount_value|   offer_type|offer_name_adjusted|email|mobile|social|web|successful_offer|\n",
            "+--------------------+--------------------+-------------+-----------+--------------+--------+---------+--------------+-------------+-------------------+-----+------+------+---+----------------+\n",
            "|0861b9ca31b741bb8...|f19421c1d4aa40978...|          0.0|        0.0|           1.5|     5.0|        5|             5|         bogo|         bogo_5_5_5|    1|     1|     1|  1|               1|\n",
            "|4ecbfa77f6f84e779...|3f207df678b143eea...|          0.0|       -1.0|          -1.0|     4.0|        0|             0|informational|informational_0_0_4|    1|     1|     0|  1|               0|\n",
            "|523e2d85f3d94eefb...|4d5c57ea9a6940dd8...|          0.0|       0.25|          1.75|     5.0|       10|            10|         bogo|       bogo_10_10_5|    1|     1|     1|  1|               1|\n",
            "|d57bd2200e7b44c6b...|2906b810c7d441179...|          0.0|       -1.0|          -1.0|     7.0|       10|             2|     discount|    discount_2_10_7|    1|     1|     0|  1|               0|\n",
            "|7248fc98eb6c4b1fb...|5a8bc65990b245e5a...|          0.0|       1.25|          -1.0|     3.0|        0|             0|informational|informational_0_0_3|    1|     1|     1|  0|               0|\n",
            "+--------------------+--------------------+-------------+-----------+--------------+--------+---------+--------------+-------------+-------------------+-----+------+------+---+----------------+\n",
            "only showing top 5 rows\n",
            "\n"
          ]
        }
      ]
    },
    {
      "cell_type": "code",
      "source": [
        "df_profile.show(5)"
      ],
      "metadata": {
        "colab": {
          "base_uri": "https://localhost:8080/"
        },
        "id": "wMKk7ZZd6mgD",
        "outputId": "13e6b654-6eab-4f90-a44f-03de0c2178d5"
      },
      "execution_count": 7,
      "outputs": [
        {
          "output_type": "stream",
          "name": "stdout",
          "text": [
            "+--------------------+---+-----------------+------+------------------+--------------+-------------+-------------------+---+---+---+\n",
            "|                  id|age|credit_card_limit|gender|    average_amount|n_transactions|registered_on|days_since_register|  F|  M|  O|\n",
            "+--------------------+---+-----------------+------+------------------+--------------+-------------+-------------------+---+---+---+\n",
            "|c05652fa9d2c4fac9...| 62|          73000.0|     M|              3.89|             7|   2018-01-27|               2686|  0|  1|  0|\n",
            "|6be0513109fe4d738...| 42|          57000.0|     M|             13.35|             3|   2018-06-13|               2549|  0|  1|  0|\n",
            "|f5de20984950433d9...| 48|          75000.0|     M|20.228125000000002|            16|   2015-09-10|               3556|  0|  1|  0|\n",
            "|9da3f2339b244229a...| 49|          36000.0|     F|            4.7175|             4|   2018-01-09|               2704|  1|  0|  0|\n",
            "|fc58860830e648c9b...| 79|          64000.0|     M|              2.55|             4|   2018-06-13|               2549|  0|  1|  0|\n",
            "+--------------------+---+-----------------+------+------------------+--------------+-------------+-------------------+---+---+---+\n",
            "only showing top 5 rows\n",
            "\n"
          ]
        }
      ]
    },
    {
      "cell_type": "code",
      "source": [
        "df_offers_profile.count(),df_offers.count(), df_profile.count()"
      ],
      "metadata": {
        "colab": {
          "base_uri": "https://localhost:8080/"
        },
        "id": "MTynp1iF6rNa",
        "outputId": "d64407e1-cb68-4732-d513-e9e2a54c753a"
      },
      "execution_count": 8,
      "outputs": [
        {
          "output_type": "execute_result",
          "data": {
            "text/plain": [
              "(70701, 70701, 14825)"
            ]
          },
          "metadata": {},
          "execution_count": 8
        }
      ]
    },
    {
      "cell_type": "markdown",
      "source": [
        "## Definição do Problema"
      ],
      "metadata": {
        "id": "mYKogQ2k636Q"
      }
    },
    {
      "cell_type": "markdown",
      "source": [
        "**Visão Geral**\n",
        "\n",
        "Desenvolver uma solução baseada em dados para otimizar a distribuição de cupons e ofertas aos clientes do iFood.\n",
        "\n",
        "**Aspectos envolvidos**\n",
        "* Diferentes tipos de ofertas disponíveis\n",
        "* Diversos canais de marketing\n",
        "* Variados perfis de consumo dos clientes\n",
        "* Timing do envio das ofertas\n",
        "\n",
        "\n",
        "**Objetivo**\n",
        "\n",
        "1. Analisar os dados históricos de transações, ofertas e clientes\n",
        "2. **Desenvolver uma técnica/modelo que auxilie na decisão de qual oferta\n",
        "enviar para cada cliente**\n",
        "3. Demonstrar o potencial impacto da sua solução no negócio\n",
        "\n",
        "\n",
        "O objetivo principal é auxiliar na decisão de qual oferta enviar para cada cliente. Com base nos dados processados na etapa anterior, para cada usuário e oferta recebida, há uma indicador de sucesso da oferta (*successful_offer*), que apresenta valor 1 caso o usuário tenha aceitado a oferta, ou 0, caso contrário.\n",
        "\n",
        "Dessa forma, o objetivo é prever se um cliente aceitará ou não uma oferta. Tratarei o problema como classificação binária.\n",
        "\n",
        "Os dados de entrada são os dados de perfil do cliente (age,credit_card_limit,gender,average_amount,n_transactions,days_since_register), combinados com os dados da oferta (time_received,duration,min_value,discount_value,offer_type). O dado que queremos prever é *successful_offer*.\n",
        "\n",
        "### Descrição detalhada\n",
        "\n",
        "\n",
        "* **Tipo de problema de ML**: Classificação\n",
        "* **Entrada(s)**: idade, limite do cartão de crédito, gênero, gasto médio por transação, número de transações, quantidade de tempo como cliente\n",
        "* **Saída(s):** classificação automática se o cliente vai aceitar determinada oferta ou não\n",
        "* **Métricas de avaliação**: *precision*, *recall*, *F1-Score*"
      ],
      "metadata": {
        "id": "8lrGDGP36_IT"
      }
    },
    {
      "cell_type": "markdown",
      "source": [
        "### Dividindo a base em treino e teste por usuário de forma estratificada"
      ],
      "metadata": {
        "id": "nR5Fk5T0OvTB"
      }
    },
    {
      "cell_type": "markdown",
      "source": [
        "Para **evitar vazamento de dados** e verificar a capacidade de generalização do modelo para usuários não vistos durante o treino, vou **separar os dados de treino e teste por usuários**. Se um usuário aparece no treino, todas as ofertas que ele recebeu/viu/completou aparecem apenas no treino, nada desse usuário estará no teste.\n",
        "\n",
        "Para garantir que ao dividir os conjuntos por usuários tenhamos proporções parecidas de ofertas aceitas e rejeitadas, farei um split estratificado. Primeiro, vejamos se o dataset original está balanceado."
      ],
      "metadata": {
        "id": "SzszPkpmR1D5"
      }
    },
    {
      "cell_type": "code",
      "source": [
        "\"\"\"\n",
        "Verificando se as classes no dataset estão balanceadas\n",
        "\"\"\"\n",
        "data_plot = df_offers_profile.select(\"successful_offer\").rdd.flatMap(lambda x: x).collect()\n",
        "plt.hist(data_plot, bins=20)\n",
        "plt.xlabel(\"Classe\")\n",
        "plt.ylabel(\"Frequência\")\n",
        "plt.title(\"Balanceamento entre as classes\")\n",
        "plt.show()\n"
      ],
      "metadata": {
        "colab": {
          "base_uri": "https://localhost:8080/",
          "height": 472
        },
        "id": "1-r_fENyUWNP",
        "outputId": "f56e9ffb-96d6-422b-c032-96099df292d1"
      },
      "execution_count": 9,
      "outputs": [
        {
          "output_type": "display_data",
          "data": {
            "text/plain": [
              "<Figure size 640x480 with 1 Axes>"
            ],
            "image/png": "[encoded data removed]"
          },
          "metadata": {}
        }
      ]
    },
    {
      "cell_type": "code",
      "source": [
        "'''\n",
        "Vimos que as classes estão bem balanceadas. Ao separar os conjuntos por usuário, é preciso garantir que o balanceamento continue.\n",
        "Primeiro, é preciso saber a proporção de aceite de ofertas por usuário (success_ratio).\n",
        "'''\n",
        "query_users = \"\"\"\n",
        "SELECT\n",
        "    account_id,\n",
        "    ROUND(SUM(CASE WHEN successful_offer = 1 THEN 1 ELSE 0 END) / COUNT(*), 4) AS success_ratio\n",
        "FROM profile_offers\n",
        "GROUP BY account_id\n",
        "ORDER BY account_id\n",
        "\"\"\"\n",
        "df_offers_profile.createOrReplaceTempView(\"profile_offers\")\n",
        "users_success_rate = spark.sql(query_users)\n",
        "users_success_rate.show(5)\n"
      ],
      "metadata": {
        "colab": {
          "base_uri": "https://localhost:8080/"
        },
        "id": "5qmdZW1iTaD3",
        "outputId": "16329ed9-b579-4604-f434-c427751352d0"
      },
      "execution_count": 10,
      "outputs": [
        {
          "output_type": "stream",
          "name": "stdout",
          "text": [
            "+--------------------+-------------+\n",
            "|          account_id|success_ratio|\n",
            "+--------------------+-------------+\n",
            "|0009655768c64bdeb...|          0.6|\n",
            "|0011e0d4e6b944f99...|          0.6|\n",
            "|0020c2b971eb4e918...|          0.6|\n",
            "|0020ccbbb6d84e358...|         0.75|\n",
            "|003d66b6608740288...|          0.6|\n",
            "+--------------------+-------------+\n",
            "only showing top 5 rows\n",
            "\n"
          ]
        }
      ]
    },
    {
      "cell_type": "markdown",
      "source": [
        "Agora que já temos a proporção de ofertas aceitas por cada usuário, podemos dividir a base original de forma os subconjuntos tenham a mesmo proporção usuários que aceitam ofertas e usuários que rejeitam ofertas. A função abaixo faz isso."
      ],
      "metadata": {
        "id": "-MrJ0ur-ojws"
      }
    },
    {
      "cell_type": "code",
      "source": [
        "def train_test_stratify(users_pd, train_split_percentage,seed=42):\n",
        "  '''\n",
        "  Para cada usuário, definir uma perfil pro success_ratio com base num limiar\n",
        "  e.g: usuário com 40% de success_ratio tem perfil de aceitação média\n",
        "  o objetivo é garantir que os perfis estejam balanceados nos conjuntos de treino e teste, já que vamos separar por usuário,\n",
        "  para que esses conjuntos tenham usuários com todos os perfis\n",
        "  '''\n",
        "  train_users = []\n",
        "  test_users = []\n",
        "\n",
        "  # escolher usuários mantendo a proporção de perfis\n",
        "  for profile in users_pd['acceptance_profile'].unique():\n",
        "      profile_users = users_pd[users_pd['acceptance_profile'] == profile]\n",
        "      train_sample = profile_users.sample(frac=train_split_percentage, random_state=seed)\n",
        "      test_sample = profile_users.drop(train_sample.index)\n",
        "      train_users.extend(train_sample['account_id'].tolist())\n",
        "      test_users.extend(test_sample['account_id'].tolist())\n",
        "\n",
        "  df_train = df_offers_profile.filter(col(\"account_id\").isin(train_users))\n",
        "  df_test = df_offers_profile.filter(col(\"account_id\").isin(test_users))\n",
        "  return df_train,df_test"
      ],
      "metadata": {
        "id": "Du8WSONaTOpX"
      },
      "execution_count": 11,
      "outputs": []
    },
    {
      "cell_type": "code",
      "source": [
        "'''\n",
        "Definindo os perfis de usuário com base no success_ratio. Perfis: baixo, médio e alto.\n",
        "'''\n",
        "users_acceptance_profile = users_success_rate.withColumn(\"acceptance_profile\",when(col(\"success_ratio\") <= 0.33,\"baixo\").when(col(\"success_ratio\") <= 0.66,\"medio\").otherwise(\"alto\"))\n",
        "users_pd = users_acceptance_profile.toPandas()"
      ],
      "metadata": {
        "id": "pPDcxo_x7Tjs"
      },
      "execution_count": 12,
      "outputs": []
    },
    {
      "cell_type": "markdown",
      "source": [
        "Vou separar 80% dos dados para treino e 20% para teste."
      ],
      "metadata": {
        "id": "WTb2w2bqpWZj"
      }
    },
    {
      "cell_type": "code",
      "source": [
        "df_train,df_test = train_test_stratify(users_pd,0.8)"
      ],
      "metadata": {
        "id": "fSm20B4dpTWn"
      },
      "execution_count": 13,
      "outputs": []
    },
    {
      "cell_type": "code",
      "source": [
        "''' Verificando se há usuários em comum nos subconjuntos '''\n",
        "common_users = df_train.select(\"account_id\").intersect(df_test.select(\"account_id\"))\n",
        "common_users.count()"
      ],
      "metadata": {
        "colab": {
          "base_uri": "https://localhost:8080/"
        },
        "id": "mOse3JJs76VA",
        "outputId": "024b912e-5777-454a-b8a6-3b784dc40e27"
      },
      "execution_count": 14,
      "outputs": [
        {
          "output_type": "execute_result",
          "data": {
            "text/plain": [
              "0"
            ]
          },
          "metadata": {},
          "execution_count": 14
        }
      ]
    },
    {
      "cell_type": "code",
      "source": [
        "'''\n",
        "Verificando se os conjuntos de treino e teste estão balanceados\n",
        "'''\n",
        "\n",
        "data_plot_test = df_test.select(\"successful_offer\").rdd.flatMap(lambda x: x).collect()\n",
        "data_plot_train = df_train.select(\"successful_offer\").rdd.flatMap(lambda x: x).collect()\n",
        "sns.set(style=\"whitegrid\")\n",
        "fig, axes = plt.subplots(1, 2, figsize=(12, 5))\n",
        "\n",
        "axes[0].hist(data_plot_train, bins=20)\n",
        "axes[0].set_title(\"Balanceamento entre as classes - Treino\")\n",
        "axes[0].set_xlabel(\"Classe\")\n",
        "axes[0].set_ylabel(\"Frequência\")\n",
        "\n",
        "axes[1].hist(data_plot_test, bins=20)\n",
        "axes[1].set_title(\"Balanceamento entre as classes - Teste\")\n",
        "axes[1].set_xlabel(\"Classe\")\n",
        "axes[1].set_ylabel(\"Frequência\")\n",
        "\n",
        "plt.tight_layout()\n",
        "plt.show()\n"
      ],
      "metadata": {
        "colab": {
          "base_uri": "https://localhost:8080/",
          "height": 501
        },
        "id": "O96xmJDoVFKZ",
        "outputId": "b9deae09-a990-40e4-a7aa-c9d40dc2a15d"
      },
      "execution_count": 15,
      "outputs": [
        {
          "output_type": "display_data",
          "data": {
            "text/plain": [
              "<Figure size 1200x500 with 2 Axes>"
            ],
            "image/png": "[encoded data removed]"
          },
          "metadata": {}
        }
      ]
    },
    {
      "cell_type": "markdown",
      "source": [
        "Não há interseção entre os conjuntos, e as classes estão balanceadas nos conjuntos de treino e teste, podemos seguir em frente.\n",
        "\n",
        "Agora vou remover alguns dados e alterar outros para deixa-los prontos para serem usados nos modelos. Verificando os dados disponíveis:"
      ],
      "metadata": {
        "id": "Cyh-litBqRfk"
      }
    },
    {
      "cell_type": "code",
      "source": [
        "df_train.columns"
      ],
      "metadata": {
        "colab": {
          "base_uri": "https://localhost:8080/"
        },
        "id": "OHhUFDtMwcQb",
        "outputId": "0ac7900b-0650-42f6-9ba7-e2d41687fa8d"
      },
      "execution_count": 16,
      "outputs": [
        {
          "output_type": "execute_result",
          "data": {
            "text/plain": [
              "['offer_id',\n",
              " 'account_id',\n",
              " 'age',\n",
              " 'credit_card_limit',\n",
              " 'gender',\n",
              " 'average_amount',\n",
              " 'n_transactions',\n",
              " 'registered_on',\n",
              " 'days_since_register',\n",
              " 'F',\n",
              " 'M',\n",
              " 'O',\n",
              " 'time_received',\n",
              " 'time_viewed',\n",
              " 'time_completed',\n",
              " 'duration',\n",
              " 'min_value',\n",
              " 'discount_value',\n",
              " 'offer_type',\n",
              " 'offer_name_adjusted',\n",
              " 'email',\n",
              " 'mobile',\n",
              " 'social',\n",
              " 'web',\n",
              " 'successful_offer',\n",
              " 'bogo',\n",
              " 'discount',\n",
              " 'informational']"
            ]
          },
          "metadata": {},
          "execution_count": 16
        }
      ]
    },
    {
      "cell_type": "markdown",
      "source": [
        "Dentre as variáveis que vou remover estão: offer_id, offer_name_adjusted e offer_type, já que não preciso incluir o id ou nome da oferta, apenas as características específicas da oferta como min_value,duration,discount_value, e o tipo da oferta (bogo, discount, informational).\n",
        "\n",
        "Vou remover gender, pois fiz o hot encoding desse dado; registered_on (ela representa o mesmo que 'days_since_register', eu teria redundância se mantivesse ambas); time_viewed e time_completed, pois esses dados podem estar inserindo informação futura sobre o evento, o que não é ideal. Vou manter apenas time_received que indica o horário de envio da oferta. *Successful_offer* é minha variável-alvo, então vou separa-la dos meus dados de entrada. Vou remover 'account_id' no futuro, pois já tenho outras caractecrísticas de perfil mais representativas.\n",
        "\n",
        "Vou transformar 'account_id' em int a fim de facilitar etapas futuras como o *group k-fold*. Como há varios eventos relacionados ao mesmo usuário, novamente, para evitar *data leakage*, o ideal é que os dados de um mesmo usuário não apareçam no treino e no teste. Para garantir que isso não aconteça, ao treinar os modelos, usarei o *Group* *k-fold cross validation*. Nesse tipo de cross validation, os dados são separados por grupos, garantindo que um mesmo grupo não apareça no conjunto de treino e de validação.\n",
        "\n",
        "Para identificar esses grupos, usarei o 'account_id'. Dessa forma, cada usuário representará um grupo diferente. Para facilitar o processamento, transformarei o 'account_id' pra um número inteiro, em vez de hash."
      ],
      "metadata": {
        "id": "2jrVEGslxA9x"
      }
    },
    {
      "cell_type": "code",
      "source": [
        "from pyspark.sql.window import Window\n",
        "from pyspark.sql.functions import dense_rank, col\n",
        "\n",
        "#gerando account_ids inteiros\n",
        "window = Window.orderBy(\"account_id\")\n",
        "df_train_transformed = df_train.withColumn(\"account_id_int\", dense_rank().over(window))\n",
        "#apagando colunas indesejadas\n",
        "cols_to_drop = ['offer_id','account_id','offer_name_adjusted','offer_type','gender','registered_on','time_viewed', 'time_completed','successful_offer']\n",
        "train_x = df_train_transformed.drop(*cols_to_drop)\n",
        "\n",
        "#separando a variável-alvo dos dados de entrada\n",
        "train_y = df_train.select(\"successful_offer\")\n",
        "test_x = df_test.drop(*cols_to_drop)\n",
        "test_y = df_test.select(\"successful_offer\")\n",
        "\n",
        "#os grupos a serem usados na validação cruzada\n",
        "groups = train_x.select(\"account_id_int\").toPandas()\n",
        "train_x = train_x.drop(\"account_id_int\")\n",
        "\n",
        "#verificando como estão os dados de treino\n",
        "train_x.show(5)"
      ],
      "metadata": {
        "colab": {
          "base_uri": "https://localhost:8080/"
        },
        "id": "AA7m5AO-qqfz",
        "outputId": "f1b14a09-bc1e-4325-8d97-8e77ca905f6d"
      },
      "execution_count": 17,
      "outputs": [
        {
          "output_type": "stream",
          "name": "stdout",
          "text": [
            "+---+-----------------+------------------+--------------+-------------------+---+---+---+-------------+--------+---------+--------------+-----+------+------+---+----+--------+-------------+\n",
            "|age|credit_card_limit|    average_amount|n_transactions|days_since_register|  F|  M|  O|time_received|duration|min_value|discount_value|email|mobile|social|web|bogo|discount|informational|\n",
            "+---+-----------------+------------------+--------------+-------------------+---+---+---+-------------+--------+---------+--------------+-----+------+------+---+----+--------+-------------+\n",
            "| 62|          73000.0|              3.89|             7|               2686|  0|  1|  0|          0.0|     7.0|        5|             5|    1|     1|     0|  1|   1|       0|            0|\n",
            "| 49|          36000.0|            4.7175|             4|               2704|  1|  0|  0|          0.0|     5.0|       10|            10|    1|     1|     1|  1|   1|       0|            0|\n",
            "| 79|          64000.0|              2.55|             4|               2549|  0|  1|  0|          0.0|     7.0|        5|             5|    1|     1|     0|  1|   1|       0|            0|\n",
            "| 68|         115000.0|             25.41|             4|               2956|  1|  0|  0|          0.0|     7.0|        5|             5|    1|     1|     0|  1|   1|       0|            0|\n",
            "| 71|         108000.0|28.145000000000003|             4|               2744|  1|  0|  0|          0.0|     7.0|        7|             3|    1|     1|     1|  1|   0|       1|            0|\n",
            "+---+-----------------+------------------+--------------+-------------------+---+---+---+-------------+--------+---------+--------------+-----+------+------+---+----+--------+-------------+\n",
            "only showing top 5 rows\n",
            "\n"
          ]
        }
      ]
    },
    {
      "cell_type": "code",
      "source": [
        "df_train_transformed.select(\"account_id\").distinct().count(),df_train_transformed.select(\"account_id_int\").distinct().count()"
      ],
      "metadata": {
        "colab": {
          "base_uri": "https://localhost:8080/"
        },
        "id": "hxBfIhX80FYf",
        "outputId": "2fbf3375-66bc-4c5a-c860-4d474a67f855"
      },
      "execution_count": 18,
      "outputs": [
        {
          "output_type": "execute_result",
          "data": {
            "text/plain": [
              "(11856, 11856)"
            ]
          },
          "metadata": {},
          "execution_count": 18
        }
      ]
    },
    {
      "cell_type": "code",
      "source": [
        "#verificando como estão os dados de teste\n",
        "test_x.show(5)"
      ],
      "metadata": {
        "colab": {
          "base_uri": "https://localhost:8080/"
        },
        "id": "lFFRLuppIWyJ",
        "outputId": "2a42c725-534e-48fa-b7aa-9095477aec1a"
      },
      "execution_count": 19,
      "outputs": [
        {
          "output_type": "stream",
          "name": "stdout",
          "text": [
            "+---+-----------------+------------------+--------------+-------------------+---+---+---+-------------+--------+---------+--------------+-----+------+------+---+----+--------+-------------+\n",
            "|age|credit_card_limit|    average_amount|n_transactions|days_since_register|  F|  M|  O|time_received|duration|min_value|discount_value|email|mobile|social|web|bogo|discount|informational|\n",
            "+---+-----------------+------------------+--------------+-------------------+---+---+---+-------------+--------+---------+--------------+-----+------+------+---+----+--------+-------------+\n",
            "| 54|          71000.0|            18.292|             5|               2920|  0|  1|  0|          0.0|     5.0|        5|             5|    1|     1|     1|  1|   1|       0|            0|\n",
            "| 35|          61000.0| 3.767391304347825|            23|               2779|  0|  1|  0|          0.0|     4.0|        0|             0|    1|     1|     0|  1|   0|       0|            1|\n",
            "| 66|          62000.0|15.523636363636363|            11|               2698|  1|  0|  0|          0.0|     3.0|        0|             0|    1|     1|     1|  0|   0|       0|            1|\n",
            "| 77|          46000.0|12.644210526315792|            19|               3443|  1|  0|  0|          0.0|     3.0|        0|             0|    1|     1|     1|  0|   0|       0|            1|\n",
            "| 34|          68000.0|15.182500000000001|             4|               2682|  0|  1|  0|          0.0|     7.0|       10|             2|    1|     1|     0|  1|   0|       1|            0|\n",
            "+---+-----------------+------------------+--------------+-------------------+---+---+---+-------------+--------+---------+--------------+-----+------+------+---+----+--------+-------------+\n",
            "only showing top 5 rows\n",
            "\n"
          ]
        }
      ]
    },
    {
      "cell_type": "code",
      "source": [
        "#convertendo para Pandas dataframe para uso posterior\n",
        "train_x_pd = train_x.toPandas()\n",
        "train_y_pd = train_y.toPandas().values.ravel()\n",
        "test_x_pd = test_x.toPandas()\n",
        "test_y_pd = test_y.toPandas().values.ravel()"
      ],
      "metadata": {
        "id": "o4xZ-6wwH_e3"
      },
      "execution_count": 20,
      "outputs": []
    },
    {
      "cell_type": "markdown",
      "source": [
        "### Escolhendo os modelos pros experimentos"
      ],
      "metadata": {
        "id": "UuhdDAh2rwAM"
      }
    },
    {
      "cell_type": "markdown",
      "source": [
        "Alguns modelos de classificação serão testados sob o conjunto de dados de treino acima a fim de analisarmos qual terá o melhor desempenho e qual usaremos como modelo final para fazer inferência sobre o conjunto de teste.\n",
        "\n",
        "Como métrica para avaliarmos os modelos, usaremos F1-Score - uma média harmônica entre a precisão e recall. A precisão indica a capacidade do classificador de não rotular como positiva uma amostra que é negativa. Para o caso de recomendar ofertas, um modelo com precisão alta ajudaria a evitar recomendar uma oferta que o usuário vai rejeitar.\n",
        "\n",
        "O *recall* quantifica a capacidade do modelo de identificar todas as instâncias relevantes dentro de um conjunto de dados. No nosso contexto, um *recall* alto indica que há menos chances de um usuário perder boas ofertas. Dessa forma, um bom F1-Score pode indicar o equilíbrio entre dar boas recomendações e não deixar de recomendar possíveis boas ofertas.\n",
        "\n",
        "Aplicaremos validação cruzada sobre o conjunto de teste usando 3 folds. Para a tarefa de classificação binária, escolhi modelos clássicos, muito utilizados pra esse tipo de tarefa como SVM e LR, e  outros modelos robustos que já usei em outros contextos e funcionaram bem. Os modelos a serem testados são: Regressão Logística (LR), K-Nearest Neighbors (KNN), DecisionTrees (CART), RandomForest (RF), XGBoost Classifier (XGB), LightGBM(LGBm) e Support Vector Machine (SVM).\n",
        "\n",
        " Dois tipos de scaler serão usados para normalizar os dados: o StandardScaler e o RobustScaler, que é menos sensível a outliers. Em nosso dataset, temos muitos outliers na variável *average_amount*. Métodos baseados em arvores como XGBoost, LightGBM, CART e Random Forests não precisam que os dados estejam normalizados, mas modelos como LR e SVM tendem a se beneficiar da normalização. Por isso, vou usar os scalers em todos os modelos, mas se um dos modelos *tree-based* tiver o melhor desempenho, eu não uso mais o scaler nos próximos passos."
      ],
      "metadata": {
        "id": "2mYamg9Wt9wv"
      }
    },
    {
      "cell_type": "markdown",
      "source": [
        "### Usando Group K-Fold para evitar vazamento de dados no cross-validation"
      ],
      "metadata": {
        "id": "XTH5ZgIbt-6w"
      }
    },
    {
      "cell_type": "code",
      "source": [
        "from sklearn.pipeline import Pipeline\n",
        "from sklearn.model_selection import cross_val_score, GroupKFold\n",
        "from sklearn.preprocessing import StandardScaler, RobustScaler\n",
        "from sklearn.linear_model import LogisticRegression\n",
        "from sklearn.neighbors import KNeighborsClassifier\n",
        "from sklearn.tree import DecisionTreeClassifier\n",
        "from sklearn.ensemble import RandomForestClassifier\n",
        "from xgboost import XGBClassifier\n",
        "from lightgbm import LGBMClassifier\n",
        "from sklearn.svm import SVC\n",
        "import warnings\n",
        "\n",
        "warnings.filterwarnings(\"ignore\")\n",
        "seed_xgb = 42\n",
        "\n",
        "models = {\n",
        "    \"LogisticRegression\": LogisticRegression(max_iter=1000),\n",
        "    \"KNeighborsClassifier\": KNeighborsClassifier(),\n",
        "    \"DecisionTreeClassifier\": DecisionTreeClassifier(),\n",
        "    \"RandomForestClassifier\": RandomForestClassifier(),\n",
        "    \"XGBClassifier\": XGBClassifier(objective=\"binary:logistic\",eval_metric=\"logloss\",use_label_encoder=False,random_state=seed_xgb),\n",
        "    \"LGBMClassifier\": LGBMClassifier(objective='binary', metric='logloss'),\n",
        "    \"SVM\": SVC()\n",
        "}\n",
        "\n",
        "scalers = {\"StandardScaler\": StandardScaler(), \"RobustScaler\": RobustScaler()}\n",
        "cv_folds = 5\n",
        "cv = GroupKFold(n_splits=cv_folds)\n",
        "groups_list = groups['account_id_int'].tolist()\n",
        "cv_results_all = []\n",
        "\n",
        "for scaler_name, scaler in scalers.items():\n",
        "    for model_name, model in models.items():\n",
        "        pipeline = Pipeline([('scaler', scaler), ('clf', model)])\n",
        "        scores = cross_val_score(pipeline, train_x_pd, train_y_pd, cv=cv, groups=groups_list, scoring='f1')\n",
        "\n",
        "        result_temp = {\"scaler\": scaler_name,\"model\": model_name,\"F1-score-mean\": scores.mean(),\"F1-score-std\": scores.std()}\n",
        "        for i, score in enumerate(scores, start=1):\n",
        "            result_temp[f\"F1-score-{i}\"] = score\n",
        "\n",
        "        cv_results_all.append(result_temp)\n",
        "        print(f\"{scaler_name}-{model_name}: F1-Scores: {scores}, Média: {scores.mean():.4f}, Desvio Padrão: {scores.std():.4f}\")\n",
        "\n",
        "cv_results_all = pd.DataFrame(cv_results_all)\n"
      ],
      "metadata": {
        "colab": {
          "base_uri": "https://localhost:8080/"
        },
        "id": "hFkUQ94vJ4Sq",
        "outputId": "de6ce337-247e-426b-ba70-62e399a0f42f"
      },
      "execution_count": 21,
      "outputs": [
        {
          "output_type": "stream",
          "name": "stdout",
          "text": [
            "StandardScaler-LogisticRegression: F1-Scores: [0.84708032 0.85054032 0.85709555 0.85398267 0.85807611], Média: 0.8534, Desvio Padrão: 0.0041\n",
            "StandardScaler-KNeighborsClassifier: F1-Scores: [0.84245243 0.84931507 0.85041621 0.85004184 0.85252996], Média: 0.8490, Desvio Padrão: 0.0034\n",
            "StandardScaler-DecisionTreeClassifier: F1-Scores: [0.82462621 0.82917901 0.82526132 0.82619952 0.82588863], Média: 0.8262, Desvio Padrão: 0.0016\n",
            "StandardScaler-RandomForestClassifier: F1-Scores: [0.86784103 0.87454468 0.87409649 0.87747036 0.87372641], Média: 0.8735, Desvio Padrão: 0.0031\n",
            "StandardScaler-XGBClassifier: F1-Scores: [0.87123195 0.87610545 0.87576648 0.87881576 0.87872499], Média: 0.8761, Desvio Padrão: 0.0028\n",
            "[LightGBM] [Info] Number of positive: 23184, number of negative: 21998\n",
            "[LightGBM] [Info] Auto-choosing row-wise multi-threading, the overhead of testing was 0.004679 seconds.\n",
            "You can set `force_row_wise=true` to remove the overhead.\n",
            "And if memory is not enough, you can set `force_col_wise=true`.\n",
            "[LightGBM] [Info] Total Bins 775\n",
            "[LightGBM] [Info] Number of data points in the train set: 45182, number of used features: 18\n",
            "[LightGBM] [Info] [binary:BoostFromScore]: pavg=0.513125 -> initscore=0.052511\n",
            "[LightGBM] [Info] Start training from score 0.052511\n",
            "[LightGBM] [Info] Number of positive: 23154, number of negative: 22028\n",
            "[LightGBM] [Info] Auto-choosing row-wise multi-threading, the overhead of testing was 0.004661 seconds.\n",
            "You can set `force_row_wise=true` to remove the overhead.\n",
            "And if memory is not enough, you can set `force_col_wise=true`.\n",
            "[LightGBM] [Info] Total Bins 775\n",
            "[LightGBM] [Info] Number of data points in the train set: 45182, number of used features: 18\n",
            "[LightGBM] [Info] [binary:BoostFromScore]: pavg=0.512461 -> initscore=0.049853\n",
            "[LightGBM] [Info] Start training from score 0.049853\n",
            "[LightGBM] [Info] Number of positive: 23148, number of negative: 22034\n",
            "[LightGBM] [Info] Auto-choosing row-wise multi-threading, the overhead of testing was 0.005551 seconds.\n",
            "You can set `force_row_wise=true` to remove the overhead.\n",
            "And if memory is not enough, you can set `force_col_wise=true`.\n",
            "[LightGBM] [Info] Total Bins 774\n",
            "[LightGBM] [Info] Number of data points in the train set: 45182, number of used features: 18\n",
            "[LightGBM] [Info] [binary:BoostFromScore]: pavg=0.512328 -> initscore=0.049322\n",
            "[LightGBM] [Info] Start training from score 0.049322\n",
            "[LightGBM] [Info] Number of positive: 23132, number of negative: 22051\n",
            "[LightGBM] [Info] Auto-choosing row-wise multi-threading, the overhead of testing was 0.004628 seconds.\n",
            "You can set `force_row_wise=true` to remove the overhead.\n",
            "And if memory is not enough, you can set `force_col_wise=true`.\n",
            "[LightGBM] [Info] Total Bins 775\n",
            "[LightGBM] [Info] Number of data points in the train set: 45183, number of used features: 18\n",
            "[LightGBM] [Info] [binary:BoostFromScore]: pavg=0.511962 -> initscore=0.047859\n",
            "[LightGBM] [Info] Start training from score 0.047859\n",
            "[LightGBM] [Info] Number of positive: 23134, number of negative: 22049\n",
            "[LightGBM] [Info] Auto-choosing row-wise multi-threading, the overhead of testing was 0.007444 seconds.\n",
            "You can set `force_row_wise=true` to remove the overhead.\n",
            "And if memory is not enough, you can set `force_col_wise=true`.\n",
            "[LightGBM] [Info] Total Bins 775\n",
            "[LightGBM] [Info] Number of data points in the train set: 45183, number of used features: 18\n",
            "[LightGBM] [Info] [binary:BoostFromScore]: pavg=0.512007 -> initscore=0.048036\n",
            "[LightGBM] [Info] Start training from score 0.048036\n",
            "StandardScaler-LGBMClassifier: F1-Scores: [0.87627218 0.88099437 0.88066667 0.88147162 0.88385175], Média: 0.8807, Desvio Padrão: 0.0025\n",
            "StandardScaler-SVM: F1-Scores: [0.87294569 0.87745057 0.87822755 0.87953508 0.87899243], Média: 0.8774, Desvio Padrão: 0.0024\n",
            "RobustScaler-LogisticRegression: F1-Scores: [0.847781   0.84988376 0.85596163 0.85151939 0.85674684], Média: 0.8524, Desvio Padrão: 0.0035\n",
            "RobustScaler-KNeighborsClassifier: F1-Scores: [0.84971196 0.85569961 0.85695063 0.85702334 0.85871468], Média: 0.8556, Desvio Padrão: 0.0031\n",
            "RobustScaler-DecisionTreeClassifier: F1-Scores: [0.82160162 0.82878325 0.8238676  0.82573727 0.82508819], Média: 0.8250, Desvio Padrão: 0.0024\n",
            "RobustScaler-RandomForestClassifier: F1-Scores: [0.87061422 0.87363706 0.87240655 0.87860981 0.87515679], Média: 0.8741, Desvio Padrão: 0.0027\n",
            "RobustScaler-XGBClassifier: F1-Scores: [0.87123195 0.87610545 0.87576648 0.87881576 0.87872499], Média: 0.8761, Desvio Padrão: 0.0028\n",
            "[LightGBM] [Info] Number of positive: 23184, number of negative: 21998\n",
            "[LightGBM] [Info] Auto-choosing col-wise multi-threading, the overhead of testing was 0.010291 seconds.\n",
            "You can set `force_col_wise=true` to remove the overhead.\n",
            "[LightGBM] [Info] Total Bins 759\n",
            "[LightGBM] [Info] Number of data points in the train set: 45182, number of used features: 18\n",
            "[LightGBM] [Info] [binary:BoostFromScore]: pavg=0.513125 -> initscore=0.052511\n",
            "[LightGBM] [Info] Start training from score 0.052511\n",
            "[LightGBM] [Info] Number of positive: 23154, number of negative: 22028\n",
            "[LightGBM] [Info] Auto-choosing col-wise multi-threading, the overhead of testing was 0.010152 seconds.\n",
            "You can set `force_col_wise=true` to remove the overhead.\n",
            "[LightGBM] [Info] Total Bins 759\n",
            "[LightGBM] [Info] Number of data points in the train set: 45182, number of used features: 18\n",
            "[LightGBM] [Info] [binary:BoostFromScore]: pavg=0.512461 -> initscore=0.049853\n",
            "[LightGBM] [Info] Start training from score 0.049853\n",
            "[LightGBM] [Info] Number of positive: 23148, number of negative: 22034\n",
            "[LightGBM] [Info] Auto-choosing row-wise multi-threading, the overhead of testing was 0.002708 seconds.\n",
            "You can set `force_row_wise=true` to remove the overhead.\n",
            "And if memory is not enough, you can set `force_col_wise=true`.\n",
            "[LightGBM] [Info] Total Bins 758\n",
            "[LightGBM] [Info] Number of data points in the train set: 45182, number of used features: 18\n",
            "[LightGBM] [Info] [binary:BoostFromScore]: pavg=0.512328 -> initscore=0.049322\n",
            "[LightGBM] [Info] Start training from score 0.049322\n",
            "[LightGBM] [Info] Number of positive: 23132, number of negative: 22051\n",
            "[LightGBM] [Info] Auto-choosing row-wise multi-threading, the overhead of testing was 0.002642 seconds.\n",
            "You can set `force_row_wise=true` to remove the overhead.\n",
            "And if memory is not enough, you can set `force_col_wise=true`.\n",
            "[LightGBM] [Info] Total Bins 759\n",
            "[LightGBM] [Info] Number of data points in the train set: 45183, number of used features: 18\n",
            "[LightGBM] [Info] [binary:BoostFromScore]: pavg=0.511962 -> initscore=0.047859\n",
            "[LightGBM] [Info] Start training from score 0.047859\n",
            "[LightGBM] [Info] Number of positive: 23134, number of negative: 22049\n",
            "[LightGBM] [Info] Auto-choosing row-wise multi-threading, the overhead of testing was 0.002684 seconds.\n",
            "You can set `force_row_wise=true` to remove the overhead.\n",
            "And if memory is not enough, you can set `force_col_wise=true`.\n",
            "[LightGBM] [Info] Total Bins 759\n",
            "[LightGBM] [Info] Number of data points in the train set: 45183, number of used features: 18\n",
            "[LightGBM] [Info] [binary:BoostFromScore]: pavg=0.512007 -> initscore=0.048036\n",
            "[LightGBM] [Info] Start training from score 0.048036\n",
            "RobustScaler-LGBMClassifier: F1-Scores: [0.87475818 0.88097234 0.87943972 0.88188321 0.88402916], Média: 0.8802, Desvio Padrão: 0.0031\n",
            "RobustScaler-SVM: F1-Scores: [0.87348845 0.8783615  0.87846588 0.88       0.87963191], Média: 0.8780, Desvio Padrão: 0.0023\n"
          ]
        }
      ]
    },
    {
      "cell_type": "markdown",
      "source": [
        "Verificando a configuração que resultou no melhor F1-Score:"
      ],
      "metadata": {
        "id": "bpyw7dBym4oI"
      }
    },
    {
      "cell_type": "code",
      "source": [
        "cv_results_all"
      ],
      "metadata": {
        "colab": {
          "base_uri": "https://localhost:8080/",
          "height": 488
        },
        "id": "C2hCVLhbi3oO",
        "outputId": "dbce05fe-ef11-41c2-f737-957493c98e6f"
      },
      "execution_count": 22,
      "outputs": [
        {
          "output_type": "execute_result",
          "data": {
            "text/plain": [
              "            scaler                   model  F1-score-mean  F1-score-std  \\\n",
              "0   StandardScaler      LogisticRegression       0.853355      0.004098   \n",
              "1   StandardScaler    KNeighborsClassifier       0.848951      0.003421   \n",
              "2   StandardScaler  DecisionTreeClassifier       0.826231      0.001570   \n",
              "3   StandardScaler  RandomForestClassifier       0.873536      0.003139   \n",
              "4   StandardScaler           XGBClassifier       0.876129      0.002759   \n",
              "5   StandardScaler          LGBMClassifier       0.880651      0.002458   \n",
              "6   StandardScaler                     SVM       0.877430      0.002350   \n",
              "7     RobustScaler      LogisticRegression       0.852379      0.003465   \n",
              "8     RobustScaler    KNeighborsClassifier       0.855620      0.003106   \n",
              "9     RobustScaler  DecisionTreeClassifier       0.825016      0.002353   \n",
              "10    RobustScaler  RandomForestClassifier       0.874085      0.002709   \n",
              "11    RobustScaler           XGBClassifier       0.876129      0.002759   \n",
              "12    RobustScaler          LGBMClassifier       0.880217      0.003107   \n",
              "13    RobustScaler                     SVM       0.877990      0.002339   \n",
              "\n",
              "    F1-score-1  F1-score-2  F1-score-3  F1-score-4  F1-score-5  \n",
              "0     0.847080    0.850540    0.857096    0.853983    0.858076  \n",
              "1     0.842452    0.849315    0.850416    0.850042    0.852530  \n",
              "2     0.824626    0.829179    0.825261    0.826200    0.825889  \n",
              "3     0.867841    0.874545    0.874096    0.877470    0.873726  \n",
              "4     0.871232    0.876105    0.875766    0.878816    0.878725  \n",
              "5     0.876272    0.880994    0.880667    0.881472    0.883852  \n",
              "6     0.872946    0.877451    0.878228    0.879535    0.878992  \n",
              "7     0.847781    0.849884    0.855962    0.851519    0.856747  \n",
              "8     0.849712    0.855700    0.856951    0.857023    0.858715  \n",
              "9     0.821602    0.828783    0.823868    0.825737    0.825088  \n",
              "10    0.870614    0.873637    0.872407    0.878610    0.875157  \n",
              "11    0.871232    0.876105    0.875766    0.878816    0.878725  \n",
              "12    0.874758    0.880972    0.879440    0.881883    0.884029  \n",
              "13    0.873488    0.878362    0.878466    0.880000    0.879632  "
            ],
            "text/html": [
              "\n",
              "  <div id=\"df-5d6dbf26-db94-4b4f-a1fb-d87404d90160\" class=\"colab-df-container\">\n",
              "    <div>\n",
              "<style scoped>\n",
              "    .dataframe tbody tr th:only-of-type {\n",
              "        vertical-align: middle;\n",
              "    }\n",
              "\n",
              "    .dataframe tbody tr th {\n",
              "        vertical-align: top;\n",
              "    }\n",
              "\n",
              "    .dataframe thead th {\n",
              "        text-align: right;\n",
              "    }\n",
              "</style>\n",
              "<table border=\"1\" class=\"dataframe\">\n",
              "  <thead>\n",
              "    <tr style=\"text-align: right;\">\n",
              "      <th></th>\n",
              "      <th>scaler</th>\n",
              "      <th>model</th>\n",
              "      <th>F1-score-mean</th>\n",
              "      <th>F1-score-std</th>\n",
              "      <th>F1-score-1</th>\n",
              "      <th>F1-score-2</th>\n",
              "      <th>F1-score-3</th>\n",
              "      <th>F1-score-4</th>\n",
              "      <th>F1-score-5</th>\n",
              "    </tr>\n",
              "  </thead>\n",
              "  <tbody>\n",
              "    <tr>\n",
              "      <th>0</th>\n",
              "      <td>StandardScaler</td>\n",
              "      <td>LogisticRegression</td>\n",
              "      <td>0.853355</td>\n",
              "      <td>0.004098</td>\n",
              "      <td>0.847080</td>\n",
              "      <td>0.850540</td>\n",
              "      <td>0.857096</td>\n",
              "      <td>0.853983</td>\n",
              "      <td>0.858076</td>\n",
              "    </tr>\n",
              "    <tr>\n",
              "      <th>1</th>\n",
              "      <td>StandardScaler</td>\n",
              "      <td>KNeighborsClassifier</td>\n",
              "      <td>0.848951</td>\n",
              "      <td>0.003421</td>\n",
              "      <td>0.842452</td>\n",
              "      <td>0.849315</td>\n",
              "      <td>0.850416</td>\n",
              "      <td>0.850042</td>\n",
              "      <td>0.852530</td>\n",
              "    </tr>\n",
              "    <tr>\n",
              "      <th>2</th>\n",
              "      <td>StandardScaler</td>\n",
              "      <td>DecisionTreeClassifier</td>\n",
              "      <td>0.826231</td>\n",
              "      <td>0.001570</td>\n",
              "      <td>0.824626</td>\n",
              "      <td>0.829179</td>\n",
              "      <td>0.825261</td>\n",
              "      <td>0.826200</td>\n",
              "      <td>0.825889</td>\n",
              "    </tr>\n",
              "    <tr>\n",
              "      <th>3</th>\n",
              "      <td>StandardScaler</td>\n",
              "      <td>RandomForestClassifier</td>\n",
              "      <td>0.873536</td>\n",
              "      <td>0.003139</td>\n",
              "      <td>0.867841</td>\n",
              "      <td>0.874545</td>\n",
              "      <td>0.874096</td>\n",
              "      <td>0.877470</td>\n",
              "      <td>0.873726</td>\n",
              "    </tr>\n",
              "    <tr>\n",
              "      <th>4</th>\n",
              "      <td>StandardScaler</td>\n",
              "      <td>XGBClassifier</td>\n",
              "      <td>0.876129</td>\n",
              "      <td>0.002759</td>\n",
              "      <td>0.871232</td>\n",
              "      <td>0.876105</td>\n",
              "      <td>0.875766</td>\n",
              "      <td>0.878816</td>\n",
              "      <td>0.878725</td>\n",
              "    </tr>\n",
              "    <tr>\n",
              "      <th>5</th>\n",
              "      <td>StandardScaler</td>\n",
              "      <td>LGBMClassifier</td>\n",
              "      <td>0.880651</td>\n",
              "      <td>0.002458</td>\n",
              "      <td>0.876272</td>\n",
              "      <td>0.880994</td>\n",
              "      <td>0.880667</td>\n",
              "      <td>0.881472</td>\n",
              "      <td>0.883852</td>\n",
              "    </tr>\n",
              "    <tr>\n",
              "      <th>6</th>\n",
              "      <td>StandardScaler</td>\n",
              "      <td>SVM</td>\n",
              "      <td>0.877430</td>\n",
              "      <td>0.002350</td>\n",
              "      <td>0.872946</td>\n",
              "      <td>0.877451</td>\n",
              "      <td>0.878228</td>\n",
              "      <td>0.879535</td>\n",
              "      <td>0.878992</td>\n",
              "    </tr>\n",
              "    <tr>\n",
              "      <th>7</th>\n",
              "      <td>RobustScaler</td>\n",
              "      <td>LogisticRegression</td>\n",
              "      <td>0.852379</td>\n",
              "      <td>0.003465</td>\n",
              "      <td>0.847781</td>\n",
              "      <td>0.849884</td>\n",
              "      <td>0.855962</td>\n",
              "      <td>0.851519</td>\n",
              "      <td>0.856747</td>\n",
              "    </tr>\n",
              "    <tr>\n",
              "      <th>8</th>\n",
              "      <td>RobustScaler</td>\n",
              "      <td>KNeighborsClassifier</td>\n",
              "      <td>0.855620</td>\n",
              "      <td>0.003106</td>\n",
              "      <td>0.849712</td>\n",
              "      <td>0.855700</td>\n",
              "      <td>0.856951</td>\n",
              "      <td>0.857023</td>\n",
              "      <td>0.858715</td>\n",
              "    </tr>\n",
              "    <tr>\n",
              "      <th>9</th>\n",
              "      <td>RobustScaler</td>\n",
              "      <td>DecisionTreeClassifier</td>\n",
              "      <td>0.825016</td>\n",
              "      <td>0.002353</td>\n",
              "      <td>0.821602</td>\n",
              "      <td>0.828783</td>\n",
              "      <td>0.823868</td>\n",
              "      <td>0.825737</td>\n",
              "      <td>0.825088</td>\n",
              "    </tr>\n",
              "    <tr>\n",
              "      <th>10</th>\n",
              "      <td>RobustScaler</td>\n",
              "      <td>RandomForestClassifier</td>\n",
              "      <td>0.874085</td>\n",
              "      <td>0.002709</td>\n",
              "      <td>0.870614</td>\n",
              "      <td>0.873637</td>\n",
              "      <td>0.872407</td>\n",
              "      <td>0.878610</td>\n",
              "      <td>0.875157</td>\n",
              "    </tr>\n",
              "    <tr>\n",
              "      <th>11</th>\n",
              "      <td>RobustScaler</td>\n",
              "      <td>XGBClassifier</td>\n",
              "      <td>0.876129</td>\n",
              "      <td>0.002759</td>\n",
              "      <td>0.871232</td>\n",
              "      <td>0.876105</td>\n",
              "      <td>0.875766</td>\n",
              "      <td>0.878816</td>\n",
              "      <td>0.878725</td>\n",
              "    </tr>\n",
              "    <tr>\n",
              "      <th>12</th>\n",
              "      <td>RobustScaler</td>\n",
              "      <td>LGBMClassifier</td>\n",
              "      <td>0.880217</td>\n",
              "      <td>0.003107</td>\n",
              "      <td>0.874758</td>\n",
              "      <td>0.880972</td>\n",
              "      <td>0.879440</td>\n",
              "      <td>0.881883</td>\n",
              "      <td>0.884029</td>\n",
              "    </tr>\n",
              "    <tr>\n",
              "      <th>13</th>\n",
              "      <td>RobustScaler</td>\n",
              "      <td>SVM</td>\n",
              "      <td>0.877990</td>\n",
              "      <td>0.002339</td>\n",
              "      <td>0.873488</td>\n",
              "      <td>0.878362</td>\n",
              "      <td>0.878466</td>\n",
              "      <td>0.880000</td>\n",
              "      <td>0.879632</td>\n",
              "    </tr>\n",
              "  </tbody>\n",
              "</table>\n",
              "</div>\n",
              "    <div class=\"colab-df-buttons\">\n",
              "\n",
              "  <div class=\"colab-df-container\">\n",
              "    <button class=\"colab-df-convert\" onclick=\"convertToInteractive('df-5d6dbf26-db94-4b4f-a1fb-d87404d90160')\"\n",
              "            title=\"Convert this dataframe to an interactive table.\"\n",
              "            style=\"display:none;\">\n",
              "\n",
              "  <svg xmlns=\"http://www.w3.org/2000/svg\" height=\"24px\" viewBox=\"0 -960 960 960\">\n",
              "    <path d=\"M120-120v-720h720v720H120Zm60-500h600v-160H180v160Zm220 220h160v-160H400v160Zm0 220h160v-160H400v160ZM180-400h160v-160H180v160Zm440 0h160v-160H620v160ZM180-180h160v-160H180v160Zm440 0h160v-160H620v160Z\"/>\n",
              "  </svg>\n",
              "    </button>\n",
              "\n",
              "  <style>\n",
              "    .colab-df-container {\n",
              "      display:flex;\n",
              "      gap: 12px;\n",
              "    }\n",
              "\n",
              "    .colab-df-convert {\n",
              "      background-color: #E8F0FE;\n",
              "      border: none;\n",
              "      border-radius: 50%;\n",
              "      cursor: pointer;\n",
              "      display: none;\n",
              "      fill: #1967D2;\n",
              "      height: 32px;\n",
              "      padding: 0 0 0 0;\n",
              "      width: 32px;\n",
              "    }\n",
              "\n",
              "    .colab-df-convert:hover {\n",
              "      background-color: #E2EBFA;\n",
              "      box-shadow: 0px 1px 2px rgba(60, 64, 67, 0.3), 0px 1px 3px 1px rgba(60, 64, 67, 0.15);\n",
              "      fill: #174EA6;\n",
              "    }\n",
              "\n",
              "    .colab-df-buttons div {\n",
              "      margin-bottom: 4px;\n",
              "    }\n",
              "\n",
              "    [theme=dark] .colab-df-convert {\n",
              "      background-color: #3B4455;\n",
              "      fill: #D2E3FC;\n",
              "    }\n",
              "\n",
              "    [theme=dark] .colab-df-convert:hover {\n",
              "      background-color: #434B5C;\n",
              "      box-shadow: 0px 1px 3px 1px rgba(0, 0, 0, 0.15);\n",
              "      filter: drop-shadow(0px 1px 2px rgba(0, 0, 0, 0.3));\n",
              "      fill: #FFFFFF;\n",
              "    }\n",
              "  </style>\n",
              "\n",
              "    <script>\n",
              "      const buttonEl =\n",
              "        document.querySelector('#df-5d6dbf26-db94-4b4f-a1fb-d87404d90160 button.colab-df-convert');\n",
              "      buttonEl.style.display =\n",
              "        google.colab.kernel.accessAllowed ? 'block' : 'none';\n",
              "\n",
              "      async function convertToInteractive(key) {\n",
              "        const element = document.querySelector('#df-5d6dbf26-db94-4b4f-a1fb-d87404d90160');\n",
              "        const dataTable =\n",
              "          await google.colab.kernel.invokeFunction('convertToInteractive',\n",
              "                                                    [key], {});\n",
              "        if (!dataTable) return;\n",
              "\n",
              "        const docLinkHtml = 'Like what you see? Visit the ' +\n",
              "          '<a target=\"_blank\" href=https://colab.research.google.com/notebooks/data_table.ipynb>data table notebook</a>'\n",
              "          + ' to learn more about interactive tables.';\n",
              "        element.innerHTML = '';\n",
              "        dataTable['output_type'] = 'display_data';\n",
              "        await google.colab.output.renderOutput(dataTable, element);\n",
              "        const docLink = document.createElement('div');\n",
              "        docLink.innerHTML = docLinkHtml;\n",
              "        element.appendChild(docLink);\n",
              "      }\n",
              "    </script>\n",
              "  </div>\n",
              "\n",
              "\n",
              "    <div id=\"df-f40fd1ec-3cf5-4537-9f32-8e725b8b273d\">\n",
              "      <button class=\"colab-df-quickchart\" onclick=\"quickchart('df-f40fd1ec-3cf5-4537-9f32-8e725b8b273d')\"\n",
              "                title=\"Suggest charts\"\n",
              "                style=\"display:none;\">\n",
              "\n",
              "<svg xmlns=\"http://www.w3.org/2000/svg\" height=\"24px\"viewBox=\"0 0 24 24\"\n",
              "     width=\"24px\">\n",
              "    <g>\n",
              "        <path d=\"M19 3H5c-1.1 0-2 .9-2 2v14c0 1.1.9 2 2 2h14c1.1 0 2-.9 2-2V5c0-1.1-.9-2-2-2zM9 17H7v-7h2v7zm4 0h-2V7h2v10zm4 0h-2v-4h2v4z\"/>\n",
              "    </g>\n",
              "</svg>\n",
              "      </button>\n",
              "\n",
              "<style>\n",
              "  .colab-df-quickchart {\n",
              "      --bg-color: #E8F0FE;\n",
              "      --fill-color: #1967D2;\n",
              "      --hover-bg-color: #E2EBFA;\n",
              "      --hover-fill-color: #174EA6;\n",
              "      --disabled-fill-color: #AAA;\n",
              "      --disabled-bg-color: #DDD;\n",
              "  }\n",
              "\n",
              "  [theme=dark] .colab-df-quickchart {\n",
              "      --bg-color: #3B4455;\n",
              "      --fill-color: #D2E3FC;\n",
              "      --hover-bg-color: #434B5C;\n",
              "      --hover-fill-color: #FFFFFF;\n",
              "      --disabled-bg-color: #3B4455;\n",
              "      --disabled-fill-color: #666;\n",
              "  }\n",
              "\n",
              "  .colab-df-quickchart {\n",
              "    background-color: var(--bg-color);\n",
              "    border: none;\n",
              "    border-radius: 50%;\n",
              "    cursor: pointer;\n",
              "    display: none;\n",
              "    fill: var(--fill-color);\n",
              "    height: 32px;\n",
              "    padding: 0;\n",
              "    width: 32px;\n",
              "  }\n",
              "\n",
              "  .colab-df-quickchart:hover {\n",
              "    background-color: var(--hover-bg-color);\n",
              "    box-shadow: 0 1px 2px rgba(60, 64, 67, 0.3), 0 1px 3px 1px rgba(60, 64, 67, 0.15);\n",
              "    fill: var(--button-hover-fill-color);\n",
              "  }\n",
              "\n",
              "  .colab-df-quickchart-complete:disabled,\n",
              "  .colab-df-quickchart-complete:disabled:hover {\n",
              "    background-color: var(--disabled-bg-color);\n",
              "    fill: var(--disabled-fill-color);\n",
              "    box-shadow: none;\n",
              "  }\n",
              "\n",
              "  .colab-df-spinner {\n",
              "    border: 2px solid var(--fill-color);\n",
              "    border-color: transparent;\n",
              "    border-bottom-color: var(--fill-color);\n",
              "    animation:\n",
              "      spin 1s steps(1) infinite;\n",
              "  }\n",
              "\n",
              "  @keyframes spin {\n",
              "    0% {\n",
              "      border-color: transparent;\n",
              "      border-bottom-color: var(--fill-color);\n",
              "      border-left-color: var(--fill-color);\n",
              "    }\n",
              "    20% {\n",
              "      border-color: transparent;\n",
              "      border-left-color: var(--fill-color);\n",
              "      border-top-color: var(--fill-color);\n",
              "    }\n",
              "    30% {\n",
              "      border-color: transparent;\n",
              "      border-left-color: var(--fill-color);\n",
              "      border-top-color: var(--fill-color);\n",
              "      border-right-color: var(--fill-color);\n",
              "    }\n",
              "    40% {\n",
              "      border-color: transparent;\n",
              "      border-right-color: var(--fill-color);\n",
              "      border-top-color: var(--fill-color);\n",
              "    }\n",
              "    60% {\n",
              "      border-color: transparent;\n",
              "      border-right-color: var(--fill-color);\n",
              "    }\n",
              "    80% {\n",
              "      border-color: transparent;\n",
              "      border-right-color: var(--fill-color);\n",
              "      border-bottom-color: var(--fill-color);\n",
              "    }\n",
              "    90% {\n",
              "      border-color: transparent;\n",
              "      border-bottom-color: var(--fill-color);\n",
              "    }\n",
              "  }\n",
              "</style>\n",
              "\n",
              "      <script>\n",
              "        async function quickchart(key) {\n",
              "          const quickchartButtonEl =\n",
              "            document.querySelector('#' + key + ' button');\n",
              "          quickchartButtonEl.disabled = true;  // To prevent multiple clicks.\n",
              "          quickchartButtonEl.classList.add('colab-df-spinner');\n",
              "          try {\n",
              "            const charts = await google.colab.kernel.invokeFunction(\n",
              "                'suggestCharts', [key], {});\n",
              "          } catch (error) {\n",
              "            console.error('Error during call to suggestCharts:', error);\n",
              "          }\n",
              "          quickchartButtonEl.classList.remove('colab-df-spinner');\n",
              "          quickchartButtonEl.classList.add('colab-df-quickchart-complete');\n",
              "        }\n",
              "        (() => {\n",
              "          let quickchartButtonEl =\n",
              "            document.querySelector('#df-f40fd1ec-3cf5-4537-9f32-8e725b8b273d button');\n",
              "          quickchartButtonEl.style.display =\n",
              "            google.colab.kernel.accessAllowed ? 'block' : 'none';\n",
              "        })();\n",
              "      </script>\n",
              "    </div>\n",
              "\n",
              "  <div id=\"id_98ffbb24-8190-419a-b9ab-d84a7471b5e3\">\n",
              "    <style>\n",
              "      .colab-df-generate {\n",
              "        background-color: #E8F0FE;\n",
              "        border: none;\n",
              "        border-radius: 50%;\n",
              "        cursor: pointer;\n",
              "        display: none;\n",
              "        fill: #1967D2;\n",
              "        height: 32px;\n",
              "        padding: 0 0 0 0;\n",
              "        width: 32px;\n",
              "      }\n",
              "\n",
              "      .colab-df-generate:hover {\n",
              "        background-color: #E2EBFA;\n",
              "        box-shadow: 0px 1px 2px rgba(60, 64, 67, 0.3), 0px 1px 3px 1px rgba(60, 64, 67, 0.15);\n",
              "        fill: #174EA6;\n",
              "      }\n",
              "\n",
              "      [theme=dark] .colab-df-generate {\n",
              "        background-color: #3B4455;\n",
              "        fill: #D2E3FC;\n",
              "      }\n",
              "\n",
              "      [theme=dark] .colab-df-generate:hover {\n",
              "        background-color: #434B5C;\n",
              "        box-shadow: 0px 1px 3px 1px rgba(0, 0, 0, 0.15);\n",
              "        filter: drop-shadow(0px 1px 2px rgba(0, 0, 0, 0.3));\n",
              "        fill: #FFFFFF;\n",
              "      }\n",
              "    </style>\n",
              "    <button class=\"colab-df-generate\" onclick=\"generateWithVariable('cv_results_all')\"\n",
              "            title=\"Generate code using this dataframe.\"\n",
              "            style=\"display:none;\">\n",
              "\n",
              "  <svg xmlns=\"http://www.w3.org/2000/svg\" height=\"24px\"viewBox=\"0 0 24 24\"\n",
              "       width=\"24px\">\n",
              "    <path d=\"M7,19H8.4L18.45,9,17,7.55,7,17.6ZM5,21V16.75L18.45,3.32a2,2,0,0,1,2.83,0l1.4,1.43a1.91,1.91,0,0,1,.58,1.4,1.91,1.91,0,0,1-.58,1.4L9.25,21ZM18.45,9,17,7.55Zm-12,3A5.31,5.31,0,0,0,4.9,8.1,5.31,5.31,0,0,0,1,6.5,5.31,5.31,0,0,0,4.9,4.9,5.31,5.31,0,0,0,6.5,1,5.31,5.31,0,0,0,8.1,4.9,5.31,5.31,0,0,0,12,6.5,5.46,5.46,0,0,0,6.5,12Z\"/>\n",
              "  </svg>\n",
              "    </button>\n",
              "    <script>\n",
              "      (() => {\n",
              "      const buttonEl =\n",
              "        document.querySelector('#id_98ffbb24-8190-419a-b9ab-d84a7471b5e3 button.colab-df-generate');\n",
              "      buttonEl.style.display =\n",
              "        google.colab.kernel.accessAllowed ? 'block' : 'none';\n",
              "\n",
              "      buttonEl.onclick = () => {\n",
              "        google.colab.notebook.generateWithVariable('cv_results_all');\n",
              "      }\n",
              "      })();\n",
              "    </script>\n",
              "  </div>\n",
              "\n",
              "    </div>\n",
              "  </div>\n"
            ],
            "application/vnd.google.colaboratory.intrinsic+json": {
              "type": "dataframe",
              "variable_name": "cv_results_all",
              "summary": "{\n  \"name\": \"cv_results_all\",\n  \"rows\": 14,\n  \"fields\": [\n    {\n      \"column\": \"scaler\",\n      \"properties\": {\n        \"dtype\": \"category\",\n        \"num_unique_values\": 2,\n        \"samples\": [\n          \"RobustScaler\",\n          \"StandardScaler\"\n        ],\n        \"semantic_type\": \"\",\n        \"description\": \"\"\n      }\n    },\n    {\n      \"column\": \"model\",\n      \"properties\": {\n        \"dtype\": \"string\",\n        \"num_unique_values\": 7,\n        \"samples\": [\n          \"LogisticRegression\",\n          \"KNeighborsClassifier\"\n        ],\n        \"semantic_type\": \"\",\n        \"description\": \"\"\n      }\n    },\n    {\n      \"column\": \"F1-score-mean\",\n      \"properties\": {\n        \"dtype\": \"number\",\n        \"std\": 0.019356292141891565,\n        \"min\": 0.8250155845663553,\n        \"max\": 0.8806513188699089,\n        \"num_unique_values\": 13,\n        \"samples\": [\n          0.8802165221645218,\n          0.8250155845663553\n        ],\n        \"semantic_type\": \"\",\n        \"description\": \"\"\n      }\n    },\n    {\n      \"column\": \"F1-score-std\",\n      \"properties\": {\n        \"dtype\": \"number\",\n        \"std\": 0.0006236975996023407,\n        \"min\": 0.0015700073653549084,\n        \"max\": 0.004098012197363079,\n        \"num_unique_values\": 13,\n        \"samples\": [\n          0.00310748253013166,\n          0.0023534845680528113\n        ],\n        \"semantic_type\": \"\",\n        \"description\": \"\"\n      }\n    },\n    {\n      \"column\": \"F1-score-1\",\n      \"properties\": {\n        \"dtype\": \"number\",\n        \"std\": 0.018926653774941696,\n        \"min\": 0.8216016210025548,\n        \"max\": 0.8762721843721086,\n        \"num_unique_values\": 13,\n        \"samples\": [\n          0.8747581798300951,\n          0.8216016210025548\n        ],\n        \"semantic_type\": \"\",\n        \"description\": \"\"\n      }\n    },\n    {\n      \"column\": \"F1-score-2\",\n      \"properties\": {\n        \"dtype\": \"number\",\n        \"std\": 0.018737075103447742,\n        \"min\": 0.8287832533798517,\n        \"max\": 0.8809943730578651,\n        \"num_unique_values\": 13,\n        \"samples\": [\n          0.8809723386420788,\n          0.8287832533798517\n        ],\n        \"semantic_type\": \"\",\n        \"description\": \"\"\n      }\n    },\n    {\n      \"column\": \"F1-score-3\",\n      \"properties\": {\n        \"dtype\": \"number\",\n        \"std\": 0.01926639502357712,\n        \"min\": 0.8238675958188153,\n        \"max\": 0.8806666666666667,\n        \"num_unique_values\": 13,\n        \"samples\": [\n          0.87943971985993,\n          0.8238675958188153\n        ],\n        \"semantic_type\": \"\",\n        \"description\": \"\"\n      }\n    },\n    {\n      \"column\": \"F1-score-4\",\n      \"properties\": {\n        \"dtype\": \"number\",\n        \"std\": 0.020280690767527657,\n        \"min\": 0.8257372654155496,\n        \"max\": 0.8818832141074696,\n        \"num_unique_values\": 13,\n        \"samples\": [\n          0.8818832141074696,\n          0.8257372654155496\n        ],\n        \"semantic_type\": \"\",\n        \"description\": \"\"\n      }\n    },\n    {\n      \"column\": \"F1-score-5\",\n      \"properties\": {\n        \"dtype\": \"number\",\n        \"std\": 0.01984003888747185,\n        \"min\": 0.8250881872150048,\n        \"max\": 0.8840291583830351,\n        \"num_unique_values\": 13,\n        \"samples\": [\n          0.8840291583830351,\n          0.8250881872150048\n        ],\n        \"semantic_type\": \"\",\n        \"description\": \"\"\n      }\n    }\n  ]\n}"
            }
          },
          "metadata": {},
          "execution_count": 22
        }
      ]
    },
    {
      "cell_type": "code",
      "source": [
        "cv_results_all.loc[cv_results_all['F1-score-mean'].idxmax()]"
      ],
      "metadata": {
        "colab": {
          "base_uri": "https://localhost:8080/",
          "height": 366
        },
        "id": "MI_6w50-nRBY",
        "outputId": "d071bdfa-cd19-4517-8af6-363bad45ef64"
      },
      "execution_count": 23,
      "outputs": [
        {
          "output_type": "execute_result",
          "data": {
            "text/plain": [
              "scaler           StandardScaler\n",
              "model            LGBMClassifier\n",
              "F1-score-mean          0.880651\n",
              "F1-score-std           0.002458\n",
              "F1-score-1             0.876272\n",
              "F1-score-2             0.880994\n",
              "F1-score-3             0.880667\n",
              "F1-score-4             0.881472\n",
              "F1-score-5             0.883852\n",
              "Name: 5, dtype: object"
            ],
            "text/html": [
              "<div>\n",
              "<style scoped>\n",
              "    .dataframe tbody tr th:only-of-type {\n",
              "        vertical-align: middle;\n",
              "    }\n",
              "\n",
              "    .dataframe tbody tr th {\n",
              "        vertical-align: top;\n",
              "    }\n",
              "\n",
              "    .dataframe thead th {\n",
              "        text-align: right;\n",
              "    }\n",
              "</style>\n",
              "<table border=\"1\" class=\"dataframe\">\n",
              "  <thead>\n",
              "    <tr style=\"text-align: right;\">\n",
              "      <th></th>\n",
              "      <th>5</th>\n",
              "    </tr>\n",
              "  </thead>\n",
              "  <tbody>\n",
              "    <tr>\n",
              "      <th>scaler</th>\n",
              "      <td>StandardScaler</td>\n",
              "    </tr>\n",
              "    <tr>\n",
              "      <th>model</th>\n",
              "      <td>LGBMClassifier</td>\n",
              "    </tr>\n",
              "    <tr>\n",
              "      <th>F1-score-mean</th>\n",
              "      <td>0.880651</td>\n",
              "    </tr>\n",
              "    <tr>\n",
              "      <th>F1-score-std</th>\n",
              "      <td>0.002458</td>\n",
              "    </tr>\n",
              "    <tr>\n",
              "      <th>F1-score-1</th>\n",
              "      <td>0.876272</td>\n",
              "    </tr>\n",
              "    <tr>\n",
              "      <th>F1-score-2</th>\n",
              "      <td>0.880994</td>\n",
              "    </tr>\n",
              "    <tr>\n",
              "      <th>F1-score-3</th>\n",
              "      <td>0.880667</td>\n",
              "    </tr>\n",
              "    <tr>\n",
              "      <th>F1-score-4</th>\n",
              "      <td>0.881472</td>\n",
              "    </tr>\n",
              "    <tr>\n",
              "      <th>F1-score-5</th>\n",
              "      <td>0.883852</td>\n",
              "    </tr>\n",
              "  </tbody>\n",
              "</table>\n",
              "</div><br><label><b>dtype:</b> object</label>"
            ]
          },
          "metadata": {},
          "execution_count": 23
        }
      ]
    },
    {
      "cell_type": "markdown",
      "source": [
        "Com a validação cruzada, o modelo que apresentou o melhor resultado foi o LGBMClassifier com StandardScaler para normalização dos dados. O F1-score médio desse modelo foi 0.8806.\n",
        "\n",
        "Como o LightGBM não precisa que os dados estejam normalizados, vou descartar essa etapa daqui em diante."
      ],
      "metadata": {
        "id": "VOSlDBQVnmu9"
      }
    },
    {
      "cell_type": "markdown",
      "source": [
        "### Ajuste no Modelo usando GridSearch"
      ],
      "metadata": {
        "id": "2WUGWl97Lw5Z"
      }
    },
    {
      "cell_type": "markdown",
      "source": [
        "Agora que já sabemos o melhor modelo e o scaler mais apropriado, vamos usar o GridSearch para otimização de hiperparâmetros."
      ],
      "metadata": {
        "id": "1Q7scS8kn9ay"
      }
    },
    {
      "cell_type": "code",
      "source": [
        "from lightgbm import LGBMClassifier\n",
        "from sklearn.model_selection import GridSearchCV\n",
        "\n",
        "param_grid = {\n",
        "    \"num_leaves\": [31, 63, 127],\n",
        "    \"max_depth\": [-1, 3, 5],\n",
        "    \"subsample\": [0.8, 1.0],\n",
        "    \"colsample_bytree\": [0.8, 1.0]\n",
        "}\n",
        "\n",
        "lgbm = lgb.LGBMClassifier(objective=\"binary\", metric=\"binary_logloss\", random_state=42)\n",
        "cvk = GroupKFold(n_splits=cv_folds)\n",
        "\n",
        "grid = GridSearchCV(estimator=lgbm,param_grid=param_grid,cv=cvk,scoring=\"f1\", verbose=1,n_jobs=-1)\n",
        "grid.fit(train_x_pd, train_y_pd, groups=groups['account_id_int'].tolist())\n",
        "\n",
        "print(f\"Melhores parâmetros: {grid.best_params_}\")\n",
        "print(f\"Melhor F1-score: {grid.best_score_:.4f}\")\n"
      ],
      "metadata": {
        "colab": {
          "base_uri": "https://localhost:8080/"
        },
        "id": "1clNcy1Wq4Mn",
        "outputId": "58e698ae-7def-43da-ac3e-e746d5553c64"
      },
      "execution_count": 24,
      "outputs": [
        {
          "output_type": "stream",
          "name": "stdout",
          "text": [
            "Fitting 5 folds for each of 36 candidates, totalling 180 fits\n",
            "[LightGBM] [Info] Number of positive: 28938, number of negative: 27540\n",
            "[LightGBM] [Info] Auto-choosing row-wise multi-threading, the overhead of testing was 0.002452 seconds.\n",
            "You can set `force_row_wise=true` to remove the overhead.\n",
            "And if memory is not enough, you can set `force_col_wise=true`.\n",
            "[LightGBM] [Info] Total Bins 762\n",
            "[LightGBM] [Info] Number of data points in the train set: 56478, number of used features: 18\n",
            "[LightGBM] [Info] [binary:BoostFromScore]: pavg=0.512377 -> initscore=0.049516\n",
            "[LightGBM] [Info] Start training from score 0.049516\n",
            "[LightGBM] [Warning] No further splits with positive gain, best gain: -inf\n",
            "[LightGBM] [Warning] No further splits with positive gain, best gain: -inf\n",
            "[LightGBM] [Warning] No further splits with positive gain, best gain: -inf\n",
            "[LightGBM] [Warning] No further splits with positive gain, best gain: -inf\n",
            "[LightGBM] [Warning] No further splits with positive gain, best gain: -inf\n",
            "[LightGBM] [Warning] No further splits with positive gain, best gain: -inf\n",
            "[LightGBM] [Warning] No further splits with positive gain, best gain: -inf\n",
            "[LightGBM] [Warning] No further splits with positive gain, best gain: -inf\n",
            "[LightGBM] [Warning] No further splits with positive gain, best gain: -inf\n",
            "[LightGBM] [Warning] No further splits with positive gain, best gain: -inf\n",
            "[LightGBM] [Warning] No further splits with positive gain, best gain: -inf\n",
            "[LightGBM] [Warning] No further splits with positive gain, best gain: -inf\n",
            "[LightGBM] [Warning] No further splits with positive gain, best gain: -inf\n",
            "[LightGBM] [Warning] No further splits with positive gain, best gain: -inf\n",
            "[LightGBM] [Warning] No further splits with positive gain, best gain: -inf\n",
            "[LightGBM] [Warning] No further splits with positive gain, best gain: -inf\n",
            "[LightGBM] [Warning] No further splits with positive gain, best gain: -inf\n",
            "[LightGBM] [Warning] No further splits with positive gain, best gain: -inf\n",
            "[LightGBM] [Warning] No further splits with positive gain, best gain: -inf\n",
            "[LightGBM] [Warning] No further splits with positive gain, best gain: -inf\n",
            "[LightGBM] [Warning] No further splits with positive gain, best gain: -inf\n",
            "[LightGBM] [Warning] No further splits with positive gain, best gain: -inf\n",
            "[LightGBM] [Warning] No further splits with positive gain, best gain: -inf\n",
            "[LightGBM] [Warning] No further splits with positive gain, best gain: -inf\n",
            "[LightGBM] [Warning] No further splits with positive gain, best gain: -inf\n",
            "[LightGBM] [Warning] No further splits with positive gain, best gain: -inf\n",
            "[LightGBM] [Warning] No further splits with positive gain, best gain: -inf\n",
            "[LightGBM] [Warning] No further splits with positive gain, best gain: -inf\n",
            "[LightGBM] [Warning] No further splits with positive gain, best gain: -inf\n",
            "[LightGBM] [Warning] No further splits with positive gain, best gain: -inf\n",
            "[LightGBM] [Warning] No further splits with positive gain, best gain: -inf\n",
            "[LightGBM] [Warning] No further splits with positive gain, best gain: -inf\n",
            "[LightGBM] [Warning] No further splits with positive gain, best gain: -inf\n",
            "[LightGBM] [Warning] No further splits with positive gain, best gain: -inf\n",
            "[LightGBM] [Warning] No further splits with positive gain, best gain: -inf\n",
            "[LightGBM] [Warning] No further splits with positive gain, best gain: -inf\n",
            "[LightGBM] [Warning] No further splits with positive gain, best gain: -inf\n",
            "[LightGBM] [Warning] No further splits with positive gain, best gain: -inf\n",
            "[LightGBM] [Warning] No further splits with positive gain, best gain: -inf\n",
            "[LightGBM] [Warning] No further splits with positive gain, best gain: -inf\n",
            "[LightGBM] [Warning] No further splits with positive gain, best gain: -inf\n",
            "[LightGBM] [Warning] No further splits with positive gain, best gain: -inf\n",
            "[LightGBM] [Warning] No further splits with positive gain, best gain: -inf\n",
            "[LightGBM] [Warning] No further splits with positive gain, best gain: -inf\n",
            "[LightGBM] [Warning] No further splits with positive gain, best gain: -inf\n",
            "[LightGBM] [Warning] No further splits with positive gain, best gain: -inf\n",
            "[LightGBM] [Warning] No further splits with positive gain, best gain: -inf\n",
            "[LightGBM] [Warning] No further splits with positive gain, best gain: -inf\n",
            "[LightGBM] [Warning] No further splits with positive gain, best gain: -inf\n",
            "[LightGBM] [Warning] No further splits with positive gain, best gain: -inf\n",
            "[LightGBM] [Warning] No further splits with positive gain, best gain: -inf\n",
            "[LightGBM] [Warning] No further splits with positive gain, best gain: -inf\n",
            "[LightGBM] [Warning] No further splits with positive gain, best gain: -inf\n",
            "[LightGBM] [Warning] No further splits with positive gain, best gain: -inf\n",
            "[LightGBM] [Warning] No further splits with positive gain, best gain: -inf\n",
            "[LightGBM] [Warning] No further splits with positive gain, best gain: -inf\n",
            "[LightGBM] [Warning] No further splits with positive gain, best gain: -inf\n",
            "[LightGBM] [Warning] No further splits with positive gain, best gain: -inf\n",
            "[LightGBM] [Warning] No further splits with positive gain, best gain: -inf\n",
            "[LightGBM] [Warning] No further splits with positive gain, best gain: -inf\n",
            "[LightGBM] [Warning] No further splits with positive gain, best gain: -inf\n",
            "[LightGBM] [Warning] No further splits with positive gain, best gain: -inf\n",
            "[LightGBM] [Warning] No further splits with positive gain, best gain: -inf\n",
            "[LightGBM] [Warning] No further splits with positive gain, best gain: -inf\n",
            "[LightGBM] [Warning] No further splits with positive gain, best gain: -inf\n",
            "[LightGBM] [Warning] No further splits with positive gain, best gain: -inf\n",
            "[LightGBM] [Warning] No further splits with positive gain, best gain: -inf\n",
            "[LightGBM] [Warning] No further splits with positive gain, best gain: -inf\n",
            "[LightGBM] [Warning] No further splits with positive gain, best gain: -inf\n",
            "[LightGBM] [Warning] No further splits with positive gain, best gain: -inf\n",
            "[LightGBM] [Warning] No further splits with positive gain, best gain: -inf\n",
            "[LightGBM] [Warning] No further splits with positive gain, best gain: -inf\n",
            "[LightGBM] [Warning] No further splits with positive gain, best gain: -inf\n",
            "[LightGBM] [Warning] No further splits with positive gain, best gain: -inf\n",
            "[LightGBM] [Warning] No further splits with positive gain, best gain: -inf\n",
            "[LightGBM] [Warning] No further splits with positive gain, best gain: -inf\n",
            "[LightGBM] [Warning] No further splits with positive gain, best gain: -inf\n",
            "[LightGBM] [Warning] No further splits with positive gain, best gain: -inf\n",
            "[LightGBM] [Warning] No further splits with positive gain, best gain: -inf\n",
            "[LightGBM] [Warning] No further splits with positive gain, best gain: -inf\n",
            "[LightGBM] [Warning] No further splits with positive gain, best gain: -inf\n",
            "[LightGBM] [Warning] No further splits with positive gain, best gain: -inf\n",
            "[LightGBM] [Warning] No further splits with positive gain, best gain: -inf\n",
            "[LightGBM] [Warning] No further splits with positive gain, best gain: -inf\n",
            "[LightGBM] [Warning] No further splits with positive gain, best gain: -inf\n",
            "[LightGBM] [Warning] No further splits with positive gain, best gain: -inf\n",
            "[LightGBM] [Warning] No further splits with positive gain, best gain: -inf\n",
            "[LightGBM] [Warning] No further splits with positive gain, best gain: -inf\n",
            "[LightGBM] [Warning] No further splits with positive gain, best gain: -inf\n",
            "[LightGBM] [Warning] No further splits with positive gain, best gain: -inf\n",
            "[LightGBM] [Warning] No further splits with positive gain, best gain: -inf\n",
            "[LightGBM] [Warning] No further splits with positive gain, best gain: -inf\n",
            "[LightGBM] [Warning] No further splits with positive gain, best gain: -inf\n",
            "[LightGBM] [Warning] No further splits with positive gain, best gain: -inf\n",
            "[LightGBM] [Warning] No further splits with positive gain, best gain: -inf\n",
            "[LightGBM] [Warning] No further splits with positive gain, best gain: -inf\n",
            "[LightGBM] [Warning] No further splits with positive gain, best gain: -inf\n",
            "[LightGBM] [Warning] No further splits with positive gain, best gain: -inf\n",
            "[LightGBM] [Warning] No further splits with positive gain, best gain: -inf\n",
            "[LightGBM] [Warning] No further splits with positive gain, best gain: -inf\n",
            "Melhores parâmetros: {'colsample_bytree': 0.8, 'max_depth': 3, 'num_leaves': 31, 'subsample': 0.8}\n",
            "Melhor F1-score: 0.8816\n"
          ]
        }
      ]
    },
    {
      "cell_type": "code",
      "source": [
        "from sklearn.metrics import classification_report\n",
        "\n",
        "best_model = grid.best_estimator_#modelo com os melhores parametros encontrados durante a busca\n",
        "y_pred = best_model.predict(test_x_pd) #testando no conjunto separado anteriormente\n",
        "print(classification_report(test_y_pd, y_pred))"
      ],
      "metadata": {
        "colab": {
          "base_uri": "https://localhost:8080/"
        },
        "id": "9iQA4fCTrodi",
        "outputId": "ebbf6046-cbac-4691-ad9e-01c5b10d2ccb"
      },
      "execution_count": 25,
      "outputs": [
        {
          "output_type": "stream",
          "name": "stdout",
          "text": [
            "              precision    recall  f1-score   support\n",
            "\n",
            "           0       0.91      0.82      0.86      6980\n",
            "           1       0.84      0.92      0.88      7243\n",
            "\n",
            "    accuracy                           0.87     14223\n",
            "   macro avg       0.87      0.87      0.87     14223\n",
            "weighted avg       0.87      0.87      0.87     14223\n",
            "\n"
          ]
        }
      ]
    },
    {
      "cell_type": "markdown",
      "source": [
        "### Feature Importance"
      ],
      "metadata": {
        "id": "p1l0OI0VBNyr"
      }
    },
    {
      "cell_type": "code",
      "source": [
        "lgb.plot_importance(best_model, importance_type=\"gain\", figsize=(7,6), title=\"LightGBM Feature Importance (Gain)\")\n",
        "plt.show()"
      ],
      "metadata": {
        "colab": {
          "base_uri": "https://localhost:8080/",
          "height": 573
        },
        "id": "T03h2p6R0rfb",
        "outputId": "178d02e7-42b5-4629-a978-c617f10acc26"
      },
      "execution_count": 26,
      "outputs": [
        {
          "output_type": "display_data",
          "data": {
            "text/plain": [
              "<Figure size 700x600 with 1 Axes>"
            ],
            "image/png": "[encoded data removed]"
          },
          "metadata": {}
        }
      ]
    },
    {
      "cell_type": "markdown",
      "source": [
        "Ao analisar as features que mais impactaram nas decisões, vemos que a duração da oferta, junto com o valor médio por transação foram as que mais impactaram."
      ],
      "metadata": {
        "id": "BQ0FLnIj2IFJ"
      }
    },
    {
      "cell_type": "markdown",
      "source": [
        "## Resultado Final"
      ],
      "metadata": {
        "id": "8JvNr4FYMQC6"
      }
    },
    {
      "cell_type": "markdown",
      "source": [
        "O modelo que apresentou o melhor desempenho foi o LBMClassifier, com *F1-Score* de 0.87 sobre os dados do conjunto de teste. Isso indica que há um equilírio entre as métricas de precisão e recall.\n",
        "\n",
        "Olhando para precisão da classe 1 (ofertas aceitas), vemos que das ofertas que o modelo previu que o usuário aceitaria, 84% delas foram de fato aceitas. O que indica que o modelo está conseguindo identificar a maior parte das boas ofertas pra um usuário.\n",
        "\n",
        "Quanto ao *recall* da classe de ofertas aceitas, vemos que o modelo identificou 92% das ofertas que o usuário de fato aceitaria. Isso indica que o modelo não está recomendando muitas ofertas que não seriam de interesse do usuário."
      ],
      "metadata": {
        "id": "sO9zW5FZ2qmK"
      }
    },
    {
      "cell_type": "markdown",
      "source": [
        "## Potencial impacto nos negócios"
      ],
      "metadata": {
        "id": "MfMU1DGh0Fee"
      }
    },
    {
      "cell_type": "markdown",
      "source": [
        "* Recomendar apenas ofertas com alta chance de aceitação pode aumentar a taxa de conversão e melhorar a experiência do usuário, que não será incomodado com ofertas que não são de seu interesse.\n",
        "\n",
        "* Evitar o envio de ofertas irrelevantes pode reduzir gastos com divulgação/marketing.\n",
        "\n",
        "* Receber ofertas personalizadas pode aumentar a satisfação do cliente e contribuir pra fidelização do mesmo"
      ],
      "metadata": {
        "id": "51C-9AS34y0h"
      }
    }
  ]
}